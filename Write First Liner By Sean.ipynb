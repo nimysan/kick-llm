{
 "cells": [
  {
   "cell_type": "code",
   "execution_count": null,
   "id": "34091e45-f667-4007-b666-8e82a88e6137",
   "metadata": {},
   "outputs": [],
   "source": [
    "import torch\n",
    "import torch.nn as nn\n",
    "import time\n"
   ]
  },
  {
   "cell_type": "markdown",
   "id": "2770788e-42d3-42b2-8f7f-185e63d4e770",
   "metadata": {},
   "source": [
    "# try to write simple liner by myself\n",
    "\n"
   ]
  },
  {
   "cell_type": "markdown",
   "id": "9455e76c-192b-45c3-b70a-c6b1a6e08159",
   "metadata": {},
   "source": [
    "## prepare data with training dataset"
   ]
  },
  {
   "cell_type": "code",
   "execution_count": null,
   "id": "1333f1ee-264e-4c02-ad2f-d1da8ca4e9d9",
   "metadata": {},
   "outputs": [],
   "source": [
    "# 设置随机种子以确保结果可复现\n",
    "torch.manual_seed(42)\n",
    "\n",
    "X = torch.rand(1000,4) # 4 featcure 100 rows Upper case X means traning dataset\n",
    "y = torch.ones(1000,1) *5 # label data\n",
    "\n",
    "y # y=f(x)+b 最终每一行的数据都要到5这里\n",
    "\n"
   ]
  },
  {
   "cell_type": "code",
   "execution_count": null,
   "id": "d57803d9-d8e0-4b87-968b-d65427c03ed4",
   "metadata": {},
   "outputs": [],
   "source": [
    "class MyNet(nn.Module):\n",
    "    def __init__(self):\n",
    "        super(MyNet, self).__init__()\n",
    "        self.layer1 = nn.Linear(4, 16);\n",
    "        self.layer2 = nn.Linear(16,1);\n",
    "        self.relu = nn.ReLU()\n",
    "\n",
    "    def forward(self, x):\n",
    "        x = self.layer1(x)\n",
    "        x = self.relu(x)\n",
    "        x = self.layer2(x) \n",
    "        #x = self.relu(x) # do wen need this?\n",
    "        x\n",
    "        return x\n",
    "\n",
    "model = MyNet()"
   ]
  },
  {
   "cell_type": "code",
   "execution_count": null,
   "id": "4d959c88-c439-455e-b20a-1ac9f41023c0",
   "metadata": {},
   "outputs": [],
   "source": [
    "def probeParam():\n",
    "    total_params = sum(p.numel() for p in model.parameters())\n",
    "    print(f\"Total number of parameters: {total_params}\")\n",
    "    for name, param in model.named_parameters():\n",
    "        print(f\"Layer: {name} | Size: {param.size()} | Parameters: {param.numel()} | {param}\")\n",
    "    #grad\n",
    "    for name, param in model.named_parameters():\n",
    "        if param.grad is not None:\n",
    "            print(f\"  {name} gradient: {param.grad}\")\n"
   ]
  },
  {
   "cell_type": "code",
   "execution_count": null,
   "id": "be4681aa-c1df-4a87-a8ad-38def81c41a1",
   "metadata": {},
   "outputs": [],
   "source": [
    "probeParam()"
   ]
  },
  {
   "cell_type": "markdown",
   "id": "79f270a1-353e-44f2-988e-335bff62cb04",
   "metadata": {},
   "source": [
    "## 定义损失函数"
   ]
  },
  {
   "cell_type": "code",
   "execution_count": null,
   "id": "512b3ad1-4454-41bf-8937-8ee717cd6517",
   "metadata": {},
   "outputs": [],
   "source": [
    "loss_fn = nn.MSELoss()\n",
    "loss_fn"
   ]
  },
  {
   "cell_type": "markdown",
   "id": "342960f9-0742-4929-aa4d-b427107c68bd",
   "metadata": {},
   "source": [
    "## 定义优化器"
   ]
  },
  {
   "cell_type": "code",
   "execution_count": null,
   "id": "95b1aeaf-fa72-4147-bba4-06e391451511",
   "metadata": {},
   "outputs": [],
   "source": [
    "import torch.optim as optim\n",
    "\n",
    "optimizier = optim.Adam(model.parameters(), lr=0.01) # 定义优化器和学习率\n",
    "optimizier"
   ]
  },
  {
   "cell_type": "code",
   "execution_count": null,
   "id": "8d6e4b42-f8a1-4f8b-8269-81b987300b29",
   "metadata": {},
   "outputs": [],
   "source": [
    "losses = []\n",
    "epoch_times = []\n",
    "\n",
    "def train_in_epoch(epoch_index=1):\n",
    "\n",
    "    start_time = time.time()  # 记录开始时间\n",
    "    \n",
    "    outputs = model(X)\n",
    "    #print(outputs)\n",
    "    #print(y.shape)\n",
    "    loss = loss_fn(outputs , y) #计算结果和标注数据的 差 \n",
    "    optimizier.zero_grad() \n",
    "    loss.backward()\n",
    "    optimizier.step()\n",
    "    \n",
    "    # 记录损失\n",
    "    losses.append(loss.item())\n",
    "    end_time = time.time()  # 记录结束时间\n",
    "    epoch_time = end_time - start_time\n",
    "    epoch_times.append(epoch_time)\n",
    "    \n",
    "    # 打印每100个epoch的损失和时间\n",
    "    if (epoch_index+1) % 100 == 0:\n",
    "        print(f'Epoch [{epoch_index+1}/{num_epochs}], Loss: {loss.item():.4f}, Time: {epoch_time:.4f} seconds')\n",
    "        \n"
   ]
  },
  {
   "cell_type": "code",
   "execution_count": null,
   "id": "932a64cb-d6a2-4631-985b-2ad1f9d48ec6",
   "metadata": {},
   "outputs": [],
   "source": [
    "# 训练模型\n",
    "num_epochs = 1000\n",
    "for epoch_index in range(num_epochs):\n",
    "    train_in_epoch(epoch_index)"
   ]
  },
  {
   "cell_type": "code",
   "execution_count": null,
   "id": "ed55da39-05af-4137-b0a4-4efbecf003c3",
   "metadata": {},
   "outputs": [],
   "source": [
    "num_epochs, len(losses),len(epoch_times)"
   ]
  },
  {
   "cell_type": "code",
   "execution_count": null,
   "id": "14285902-bf9e-475e-9168-7e30ff1c1627",
   "metadata": {},
   "outputs": [],
   "source": [
    "import matplotlib.pyplot as plt\n",
    "def showtime():\n",
    "    # 计算平均epoch时间\n",
    "    \n",
    "   \n",
    "    \n",
    "    avg_epoch_time = sum(epoch_times) / len(epoch_times)\n",
    "    print(f\"\\nAverage epoch time: {avg_epoch_time:.4f} seconds\")\n",
    "    \n",
    "    \n",
    "    # 绘制损失曲线\n",
    "    plt.figure(figsize=(12, 5))\n",
    "    plt.subplot(1, 2, 1)\n",
    "    plt.plot(range(1, num_epochs+1), losses)\n",
    "    plt.title('Training Loss Curve')\n",
    "    plt.xlabel('Epoch')\n",
    "    plt.ylabel('Loss')\n",
    "    plt.grid(True)\n",
    "    \n",
    "    # 绘制epoch时间曲线\n",
    "    plt.subplot(1, 2, 2)\n",
    "    plt.plot(range(1, num_epochs+1), epoch_times)\n",
    "    plt.title('Epoch Time Curve')\n",
    "    plt.xlabel('Epoch')\n",
    "    plt.ylabel('Time (seconds)')\n",
    "    plt.grid(True)\n",
    "    \n",
    "    plt.tight_layout()\n",
    "    plt.show()"
   ]
  },
  {
   "cell_type": "code",
   "execution_count": null,
   "id": "57df1501-b9a3-4849-b2ab-fe6d62b92564",
   "metadata": {},
   "outputs": [],
   "source": [
    "%matplotlib inline\n",
    "showtime()"
   ]
  },
  {
   "cell_type": "code",
   "execution_count": null,
   "id": "3b6fc95a-6dc0-4d7e-8d82-2c1675cbef65",
   "metadata": {},
   "outputs": [],
   "source": [
    "## checkout model"
   ]
  },
  {
   "cell_type": "code",
   "execution_count": null,
   "id": "55f69891-543c-4c8c-af4a-98979e930df2",
   "metadata": {},
   "outputs": [],
   "source": [
    "%matplotlib inline\n",
    "import matplotlib.pyplot as plt\n",
    "import torch\n",
    "\n",
    "# 测试模型\n",
    "model.eval()\n",
    "with torch.no_grad():\n",
    "    test_output = model(X)\n",
    "\n",
    "# 将张量转换为 NumPy 数组以便绘图\n",
    "predicted = test_output.numpy().flatten()\n",
    "actual = y.numpy().flatten()\n",
    "\n",
    "# 创建 x 轴的值（样本索引）\n",
    "x = range(len(predicted))\n",
    "\n",
    "# 创建图表\n",
    "plt.figure(figsize=(12, 6))\n",
    "plt.plot(x, predicted, label='Predicted', marker='o', linestyle='-', markersize=8)\n",
    "plt.plot(x, actual, label='Actual', marker='s', linestyle='--', markersize=8)\n",
    "\n",
    "# 添加标题和标签\n",
    "plt.title('Predicted vs Actual Values', fontsize=16)\n",
    "plt.xlabel('Sample Index', fontsize=12)\n",
    "plt.ylabel('Value', fontsize=12)\n",
    "\n",
    "# 添加图例\n",
    "plt.legend(fontsize=12)\n",
    "\n",
    "# 显示网格\n",
    "plt.grid(True, linestyle=':', alpha=0.7)\n",
    "\n",
    "# 调整 y 轴的范围以更好地显示数据\n",
    "y_min = min(min(predicted), min(actual))\n",
    "y_max = max(max(predicted), max(actual))\n",
    "plt.ylim(y_min - 0.5, y_max + 0.5)\n",
    "\n",
    "# 显示图表\n",
    "plt.show()\n",
    "\n",
    "# 打印数值\n",
    "#print(\"预测值:\")\n",
    "#print(test_output)\n",
    "#print(\"\\n实际值:\")\n",
    "#print(y)\n",
    "#print(\"\\n差值:\")\n",
    "#print(test_output - y)"
   ]
  },
  {
   "cell_type": "markdown",
   "id": "0e2dc957-42d0-4e95-9664-c10b8549b8d2",
   "metadata": {},
   "source": [
    "## 切换成GPU版本\n",
    "\n",
    "如何安装CUDA之类的就单说了\n",
    "\n"
   ]
  },
  {
   "cell_type": "code",
   "execution_count": null,
   "id": "cc28c97a-cf8b-43b1-93a0-907a07d53458",
   "metadata": {},
   "outputs": [],
   "source": [
    "import torch\n",
    "\n",
    "# 检查 CUDA 是否可用\n",
    "device = torch.device(\"cuda\" if torch.cuda.is_available() else \"cpu\")\n",
    "print(f\"Using device: {device}\")\n",
    "\n",
    "# 设置随机种子以确保结果可复现\n",
    "torch.manual_seed(42)\n",
    "if torch.cuda.is_available():\n",
    "    torch.cuda.manual_seed_all(42)"
   ]
  },
  {
   "cell_type": "code",
   "execution_count": null,
   "id": "bd692398-dce5-4784-8e3a-4437e4544b24",
   "metadata": {},
   "outputs": [],
   "source": [
    "# 生成数据并移到 GPU\n",
    "X = torch.rand(1000, 4, device=device)  # 4 features, 1000 rows\n",
    "y = torch.ones(1000, 1, device=device) * 5  # label data\n",
    "y # TODO 这个时候在内存和GPU中都有数据吗？"
   ]
  },
  {
   "cell_type": "code",
   "execution_count": null,
   "id": "674f9e97-7075-4b4c-9429-8598ea5a11f6",
   "metadata": {},
   "outputs": [],
   "source": [
    "model.to(device)"
   ]
  },
  {
   "cell_type": "code",
   "execution_count": null,
   "id": "067d4986-7c2a-4f13-8240-2e1ca8cab971",
   "metadata": {},
   "outputs": [],
   "source": [
    "probeParam()"
   ]
  },
  {
   "cell_type": "code",
   "execution_count": null,
   "id": "365fa28e-44f8-4aee-b819-f598960f22c0",
   "metadata": {},
   "outputs": [],
   "source": [
    "import torch.optim as optim\n",
    "\n",
    "optimizier = optim.Adam(model.parameters(), lr=0.01) # 定义优化器和学习率\n",
    "#optimizier.to(device)"
   ]
  },
  {
   "cell_type": "code",
   "execution_count": null,
   "id": "8cc5c762-a34e-4dfb-9a34-c445b74f7598",
   "metadata": {},
   "outputs": [],
   "source": [
    "loss_fn = nn.MSELoss().to(device)\n",
    "loss_fn"
   ]
  },
  {
   "cell_type": "code",
   "execution_count": null,
   "id": "a9182afd-7dc7-4d6e-92ec-a96d606a07ef",
   "metadata": {},
   "outputs": [],
   "source": [
    "%%time \n",
    "# 训练模型\n",
    "# RuntimeError: Expected all tensors to be on the same device, but found at least two devices, cuda:0 and cpu! \n",
    "# model is already to(cuda） \n",
    "num_epochs = 1000\n",
    "for epoch_index in range(num_epochs):\n",
    "    train_in_epoch(epoch_index)"
   ]
  },
  {
   "cell_type": "code",
   "execution_count": null,
   "id": "d0176aee-4038-4250-a7af-c6e7ac08615b",
   "metadata": {},
   "outputs": [],
   "source": []
  },
  {
   "cell_type": "code",
   "execution_count": null,
   "id": "35d58bec-7ce5-4df3-bc04-3242e9b95454",
   "metadata": {},
   "outputs": [],
   "source": []
  }
 ],
 "metadata": {
  "kernelspec": {
   "display_name": "Python 3 (ipykernel)",
   "language": "python",
   "name": "python3"
  },
  "language_info": {
   "codemirror_mode": {
    "name": "ipython",
    "version": 3
   },
   "file_extension": ".py",
   "mimetype": "text/x-python",
   "name": "python",
   "nbconvert_exporter": "python",
   "pygments_lexer": "ipython3",
   "version": "3.12.4"
  }
 },
 "nbformat": 4,
 "nbformat_minor": 5
}
