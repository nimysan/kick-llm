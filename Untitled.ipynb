{
 "cells": [
  {
   "cell_type": "markdown",
   "id": "664c0513-75cf-4fe4-ae22-1637eb1973f1",
   "metadata": {},
   "source": [
    "# GPU 信息"
   ]
  },
  {
   "cell_type": "code",
   "execution_count": 1,
   "id": "96c5df5b-34ba-4bac-8da1-350aa2a97e66",
   "metadata": {},
   "outputs": [
    {
     "name": "stdout",
     "output_type": "stream",
     "text": [
      "CUDA is available: True\n",
      "Number of GPUs: 1\n",
      "Current GPU: Tesla T4\n",
      "Memory Allocated: 0.00 GB\n",
      "Memory Cached: 0.00 GB\n"
     ]
    }
   ],
   "source": [
    "import torch\n",
    "\n",
    "# 检查 CUDA 是否可用\n",
    "print(f\"CUDA is available: {torch.cuda.is_available()}\")\n",
    "\n",
    "# 获取可用的 GPU 数量\n",
    "print(f\"Number of GPUs: {torch.cuda.device_count()}\")\n",
    "\n",
    "# 获取当前 GPU 的名称\n",
    "if torch.cuda.is_available():\n",
    "    print(f\"Current GPU: {torch.cuda.get_device_name(0)}\")\n",
    "\n",
    "# 获取当前 GPU 的内存使用情况\n",
    "if torch.cuda.is_available():\n",
    "    print(f\"Memory Allocated: {torch.cuda.memory_allocated(0) / 1024**3:.2f} GB\")\n",
    "    print(f\"Memory Cached: {torch.cuda.memory_reserved(0) / 1024**3:.2f} GB\")"
   ]
  },
  {
   "cell_type": "code",
   "execution_count": null,
   "id": "a18ffd33-1aa9-44e8-ad00-16a8b0ec0029",
   "metadata": {},
   "outputs": [],
   "source": [
    "import pynvml\n",
    "\n",
    "pynvml.nvmlInit()\n",
    "handle = pynvml.nvmlDeviceGetHandleByIndex(0)\n",
    "info = pynvml.nvmlDeviceGetMemoryInfo(handle)\n",
    "\n",
    "print(f\"Total memory: {info.total / 1024**3:.2f} GB\")\n",
    "print(f\"Free memory: {info.free / 1024**3:.2f} GB\")\n",
    "#print(f\"Used memory: {info.used / 1024**3:.2f} GB\")\n",
    "\n",
    "# 获取 GPU 名称\n",
    "#print(f\"GPU Name: {pynvml.nvmlDeviceGetName(handle).decode('utf-8')}\")\n",
    "\n",
    "pynvml.nvmlShutdown()"
   ]
  },
  {
   "cell_type": "code",
   "execution_count": null,
   "id": "1c35913c-1851-4da5-adc7-9eb6c92eade5",
   "metadata": {},
   "outputs": [],
   "source": [
    "import GPUtil\n",
    "\n",
    "gpus = GPUtil.getGPUs()\n",
    "for gpu in gpus:\n",
    "    print(f\"GPU ID: {gpu.id}\")\n",
    "    print(f\"GPU Name: {gpu.name}\")\n",
    "    print(f\"Total Memory: {gpu.memoryTotal}MB\")\n",
    "    print(f\"Used Memory: {gpu.memoryUsed}MB\")\n",
    "    print(f\"Free Memory: {gpu.memoryFree}MB\")\n",
    "    print(f\"GPU Load: {gpu.load*100}%\")"
   ]
  },
  {
   "cell_type": "code",
   "execution_count": null,
   "id": "718c4586-269c-49d3-aff2-f1f647fe0cca",
   "metadata": {},
   "outputs": [],
   "source": []
  }
 ],
 "metadata": {
  "kernelspec": {
   "display_name": "Python 3 (ipykernel)",
   "language": "python",
   "name": "python3"
  },
  "language_info": {
   "codemirror_mode": {
    "name": "ipython",
    "version": 3
   },
   "file_extension": ".py",
   "mimetype": "text/x-python",
   "name": "python",
   "nbconvert_exporter": "python",
   "pygments_lexer": "ipython3",
   "version": "3.12.4"
  }
 },
 "nbformat": 4,
 "nbformat_minor": 5
}
